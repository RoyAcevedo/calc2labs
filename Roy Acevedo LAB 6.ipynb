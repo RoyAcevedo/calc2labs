{
 "cells": [
  {
   "cell_type": "markdown",
   "metadata": {},
   "source": [
    "## The horn of Gabriel and introduction to sequences and series\n",
    "\n",
    "Today we are going to study a shape known as the Horn of Gabriel. \n",
    "\n",
    "To construct this shape, we start with the graph, $f(x) = \\frac{1}{x}$ and we look only to the right of $x=1$"
   ]
  },
  {
   "cell_type": "code",
   "execution_count": 39,
   "metadata": {},
   "outputs": [
    {
     "data": {
      "image/png": "[encoded data removed]",
      "text/plain": [
       "<Figure size 432x288 with 1 Axes>"
      ]
     },
     "metadata": {
      "needs_background": "light"
     },
     "output_type": "display_data"
    },
    {
     "data": {
      "text/plain": [
       "<sympy.plotting.plot.Plot at 0x250d9a52e80>"
      ]
     },
     "execution_count": 39,
     "metadata": {},
     "output_type": "execute_result"
    }
   ],
   "source": [
    "import numpy as np\n",
    "import math\n",
    "import matplotlib.pyplot as plt\n",
    "from sympy import *\n",
    "x, y = symbols('x y')\n",
    "%matplotlib inline\n",
    "plot(1/x, xlim = (1,10), ylim = (-1, 1), title='Here is the graph from x=1 to x=10\\n\\n')"
   ]
  },
  {
   "cell_type": "markdown",
   "metadata": {},
   "source": [
    "We now revolve this around the x-axis to get a 3d solid, and we want to compare 2 values,\n",
    "* the volume using the shell method $\\pi\\int_{1}^{b}(\\frac{1}{x})^2dx$\n",
    "* the surface area $2\\pi\\int_{1}^{b}{\\frac{1}{x}\\sqrt{1 + (\\frac{1}{x^2})^2}}$\n",
    "\n",
    "And we want to see what happens when we take the $\\lim_{b\\to \\infty}$\n",
    "\n",
    "We can do this by using a numeric method to approximate these two values"
   ]
  },
  {
   "cell_type": "code",
   "execution_count": 4,
   "metadata": {},
   "outputs": [],
   "source": [
    "areaList = []\n",
    "volumeList = []\n",
    "function = 1/x\n",
    "deriv = diff(function, x)\n",
    "\n",
    "def getVolume(b):\n",
    "    if b < 1:\n",
    "        return 0\n",
    "    else:\n",
    "        value = pi * integrate(function ** 2, (x,1,b))\n",
    "        return value\n",
    "\n",
    "def getArea(b):\n",
    "    if b < 1:\n",
    "        return 0\n",
    "    else:\n",
    "        value = 2 * pi * integrate(function * sqrt(1 + (deriv**2)), (x,1,b))\n",
    "        return value"
   ]
  },
  {
   "cell_type": "markdown",
   "metadata": {},
   "source": [
    "Now we want to use these values and save them into a list\n",
    "To do this, notice I made a couple of empty lists already.\n",
    "To add items into a list, we use .append(Value)"
   ]
  },
  {
   "cell_type": "code",
   "execution_count": 5,
   "metadata": {},
   "outputs": [
    {
     "name": "stdout",
     "output_type": "stream",
     "text": [
      "[]\n",
      "[pi/2]\n"
     ]
    }
   ],
   "source": [
    "print(volumeList)\n",
    "volumeList.append(getVolume(2))\n",
    "print(volumeList)\n",
    "volumeList = [] # I need this part to clear the list after using it, or else I get duplicates possibly"
   ]
  },
  {
   "cell_type": "markdown",
   "metadata": {},
   "source": [
    "Lets add many volumes at once"
   ]
  },
  {
   "cell_type": "code",
   "execution_count": 6,
   "metadata": {},
   "outputs": [
    {
     "data": {
      "text/plain": [
       "[0, 0, pi/2, 2*pi/3, 3*pi/4, 4*pi/5, 5*pi/6, 6*pi/7, 7*pi/8, 8*pi/9, 9*pi/10]"
      ]
     },
     "execution_count": 6,
     "metadata": {},
     "output_type": "execute_result"
    }
   ],
   "source": [
    "def getManyVolumes(amount):\n",
    "    myVolumeList = []\n",
    "    for number in range(amount + 1):\n",
    "        myVolumeList.append(getVolume(number))\n",
    "    return myVolumeList\n",
    "getManyVolumes(10)"
   ]
  },
  {
   "cell_type": "code",
   "execution_count": 7,
   "metadata": {},
   "outputs": [
    {
     "data": {
      "text/plain": [
       "[0,\n",
       " 0,\n",
       " 2*pi*(-sqrt(17)/8 - log(1 + sqrt(2))/2 + sqrt(2)/2 + asinh(4)/2),\n",
       " 2*pi*(-sqrt(82)/18 - log(1 + sqrt(2))/2 + sqrt(2)/2 + asinh(9)/2)]"
      ]
     },
     "execution_count": 7,
     "metadata": {},
     "output_type": "execute_result"
    }
   ],
   "source": [
    "# Finish the fucntion getManyAreas below\n",
    "def getManyAreas(amount):\n",
    "    areaList = []\n",
    "    for number in range(amount + 1):\n",
    "        areaList.append(getArea(number))\n",
    "    return areaList\n",
    "getManyAreas(3)"
   ]
  },
  {
   "cell_type": "markdown",
   "metadata": {},
   "source": [
    "Notice that both the volumeList and the areaList are already out partial sums however, our area numbers are not pretty\n",
    "We can approximate them by saying that ${\\frac{1}{x}\\sqrt{1 + (\\frac{1}{x^2})^2}} > \\frac{1}{x}$"
   ]
  },
  {
   "cell_type": "code",
   "execution_count": 23,
   "metadata": {},
   "outputs": [
    {
     "name": "stdout",
     "output_type": "stream",
     "text": [
      "please use a value greater than 1\n"
     ]
    },
    {
     "data": {
      "text/plain": [
       "[0, 0, 2*pi*log(2), 2*pi*log(3)]"
      ]
     },
     "execution_count": 23,
     "metadata": {},
     "output_type": "execute_result"
    }
   ],
   "source": [
    "def getSimplerArea(b):\n",
    "    if b < 1:\n",
    "        print('please use a value greater than 1')\n",
    "        return 0\n",
    "    else:\n",
    "        value = 2 * pi * integrate((1/x), (x,1,b))\n",
    "        return value\n",
    "\n",
    "def getManySimplerArea(amount):\n",
    "    areaList = []\n",
    "    for number in range(amount + 1):\n",
    "       areaList.append(getSimplerArea(number))\n",
    "    return areaList\n",
    "getManySimplerArea(3)"
   ]
  },
  {
   "cell_type": "markdown",
   "metadata": {},
   "source": [
    "What can we say about these areas and volumes?\n",
    "Is there a pattern as we go towards $\\infty$"
   ]
  },
  {
   "cell_type": "markdown",
   "metadata": {},
   "source": [
    "### Creating a sequence"
   ]
  },
  {
   "cell_type": "code",
   "execution_count": 26,
   "metadata": {},
   "outputs": [],
   "source": [
    "# The following function will create a sequence of numbers\n",
    "# What sequence does this make\n",
    "def makeSequence(number):\n",
    "    mySequence = []\n",
    "    for num in range(1,number+1):\n",
    "        thing = 1/num\n",
    "        mySequence.append(thing)\n",
    "    return mySequence\n"
   ]
  },
  {
   "cell_type": "code",
   "execution_count": null,
   "metadata": {},
   "outputs": [],
   "source": [
    "makeSequence(4)"
   ]
  },
  {
   "cell_type": "code",
   "execution_count": 25,
   "metadata": {},
   "outputs": [
    {
     "data": {
      "text/plain": [
       "2.7178571428571425"
      ]
     },
     "execution_count": 25,
     "metadata": {},
     "output_type": "execute_result"
    }
   ],
   "source": [
    "# We want to make a partial sum of a series\n",
    "# to do this, we have to loop through our sequence and add up the values\n",
    "\n",
    "def partialSum(sequence):\n",
    "    mySum = 0\n",
    "    for item in sequence:\n",
    "        mySum += item\n",
    "    return mySum\n",
    "partialSum(makeSequence(8))\n",
    "mySeq = makeSequence(8)\n",
    "partialSum(mySeq)"
   ]
  },
  {
   "cell_type": "markdown",
   "metadata": {},
   "source": [
    "### assignment\n",
    "\n",
    "make functions to create the sequences and find the partial sums using the partialSum function already made.\n",
    "\n",
    "$$\\sum_{n = 1}^{10}\\frac{n - 1}{n+1}$$"
   ]
  },
  {
   "cell_type": "code",
   "execution_count": 32,
   "metadata": {
    "collapsed": true
   },
   "outputs": [],
   "source": [
    "def makeSequence(number):\n",
    "    mySequence = []\n",
    "    for num in range(1,number+1):\n",
    "        thing = (num-1)/(num+1)\n",
    "        mySequence.append(thing)\n",
    "    return mySequence"
   ]
  },
  {
   "cell_type": "code",
   "execution_count": 35,
   "metadata": {
    "collapsed": true
   },
   "outputs": [
    {
     "data": {
      "text/plain": [
       "[0.0,\n",
       " 0.3333333333333333,\n",
       " 0.5,\n",
       " 0.6,\n",
       " 0.6666666666666666,\n",
       " 0.7142857142857143,\n",
       " 0.75,\n",
       " 0.7777777777777778,\n",
       " 0.8,\n",
       " 0.8181818181818182]"
      ]
     },
     "execution_count": 35,
     "metadata": {},
     "output_type": "execute_result"
    }
   ],
   "source": [
    "makeSequence(10)"
   ]
  },
  {
   "cell_type": "code",
   "execution_count": 38,
   "metadata": {
    "collapsed": true
   },
   "outputs": [
    {
     "data": {
      "text/plain": [
       "5.96024531024531"
      ]
     },
     "execution_count": 38,
     "metadata": {},
     "output_type": "execute_result"
    }
   ],
   "source": [
    "\n",
    "partialSum(makeSequence(10))\n"
   ]
  },
  {
   "cell_type": "markdown",
   "metadata": {},
   "source": [
    "$$\\sum_{n = 1}^{6}\\frac{(-1)^n 2^{n-1}}{n!}$$"
   ]
  },
  {
   "cell_type": "code",
   "execution_count": 47,
   "metadata": {
    "collapsed": true
   },
   "outputs": [],
   "source": [
    "def makeSequence(number):\n",
    "    mySequence = []\n",
    "    for num in range(1,number+1):\n",
    "        thing =(-1)**num * (2 ** (num-1) )/(math.factorial(num))\n",
    "        mySequence.append(thing)\n",
    "    return mySequence"
   ]
  },
  {
   "cell_type": "code",
   "execution_count": 48,
   "metadata": {
    "collapsed": true
   },
   "outputs": [
    {
     "data": {
      "text/plain": [
       "[-1.0,\n",
       " 1.0,\n",
       " -0.6666666666666666,\n",
       " 0.3333333333333333,\n",
       " -0.13333333333333333,\n",
       " 0.044444444444444446]"
      ]
     },
     "execution_count": 48,
     "metadata": {},
     "output_type": "execute_result"
    }
   ],
   "source": [
    "makeSequence(6)"
   ]
  },
  {
   "cell_type": "code",
   "execution_count": 49,
   "metadata": {
    "collapsed": true
   },
   "outputs": [
    {
     "data": {
      "text/plain": [
       "-0.4222222222222222"
      ]
     },
     "execution_count": 49,
     "metadata": {},
     "output_type": "execute_result"
    }
   ],
   "source": [
    "partialSum(makeSequence(6))"
   ]
  },
  {
   "cell_type": "markdown",
   "metadata": {},
   "source": [
    "$$\\sum_{n = 1}^{20}4(\\frac{1}{3})^{n-1}$$"
   ]
  },
  {
   "cell_type": "code",
   "execution_count": 56,
   "metadata": {
    "collapsed": true
   },
   "outputs": [],
   "source": [
    "def makeSequence(number):\n",
    "    mySequence = []\n",
    "    for num in range(1,number+1):\n",
    "        thing = 4 * (1/3) ** (num-1)\n",
    "        mySequence.append(thing)\n",
    "    return mySequence"
   ]
  },
  {
   "cell_type": "code",
   "execution_count": 57,
   "metadata": {
    "collapsed": true
   },
   "outputs": [
    {
     "data": {
      "text/plain": [
       "[4.0,\n",
       " 1.3333333333333333,\n",
       " 0.4444444444444444,\n",
       " 0.1481481481481481,\n",
       " 0.049382716049382706,\n",
       " 0.016460905349794233,\n",
       " 0.005486968449931411,\n",
       " 0.0018289894833104703,\n",
       " 0.00060966316110349,\n",
       " 0.00020322105370116335,\n",
       " 6.774035123372112e-05,\n",
       " 2.2580117077907035e-05,\n",
       " 7.526705692635678e-06,\n",
       " 2.508901897545226e-06,\n",
       " 8.363006325150752e-07,\n",
       " 2.787668775050251e-07,\n",
       " 9.292229250167501e-08,\n",
       " 3.097409750055834e-08,\n",
       " 1.0324699166852778e-08,\n",
       " 3.441566388950926e-09]"
      ]
     },
     "execution_count": 57,
     "metadata": {},
     "output_type": "execute_result"
    }
   ],
   "source": [
    "makeSequence(20)"
   ]
  },
  {
   "cell_type": "code",
   "execution_count": 58,
   "metadata": {
    "collapsed": true
   },
   "outputs": [
    {
     "data": {
      "text/plain": [
       "5.9999999982792165"
      ]
     },
     "execution_count": 58,
     "metadata": {},
     "output_type": "execute_result"
    }
   ],
   "source": [
    "partialSum(makeSequence(20))"
   ]
  },
  {
   "cell_type": "markdown",
   "metadata": {},
   "source": [
    "$$\\sum_{n = 1}^{\\infty}(\\frac{1}{3})^{n-1}$$"
   ]
  },
  {
   "cell_type": "code",
   "execution_count": 62,
   "metadata": {
    "collapsed": true
   },
   "outputs": [],
   "source": [
    "def makeSequence(number):\n",
    "    mySequence = []\n",
    "    for num in range(1,number+1):\n",
    "        thing =(1/3) ** (num -1)\n",
    "        mySequence.append(thing)\n",
    "    return mySequence"
   ]
  },
  {
   "cell_type": "code",
   "execution_count": null,
   "metadata": {},
   "outputs": [],
   "source": []
  },
  {
   "cell_type": "code",
   "execution_count": null,
   "metadata": {
    "collapsed": true
   },
   "outputs": [],
   "source": [
    "makeSequence(20)"
   ]
  },
  {
   "cell_type": "code",
   "execution_count": 64,
   "metadata": {
    "collapsed": true
   },
   "outputs": [
    {
     "data": {
      "text/plain": [
       "1.49999999956980"
      ]
     },
     "execution_count": 64,
     "metadata": {},
     "output_type": "execute_result"
    }
   ],
   "source": [
    "limit(partialSum(makeSequence(20)),x,oo)"
   ]
  },
  {
   "cell_type": "code",
   "execution_count": null,
   "metadata": {},
   "outputs": [],
   "source": []
  }
 ],
 "metadata": {
  "kernelspec": {
   "display_name": "Python 3",
   "language": "python",
   "name": "python3"
  },
  "language_info": {
   "codemirror_mode": {
    "name": "ipython",
    "version": 3
   },
   "file_extension": ".py",
   "mimetype": "text/x-python",
   "name": "python",
   "nbconvert_exporter": "python",
   "pygments_lexer": "ipython3",
   "version": "3.7.1"
  }
 },
 "nbformat": 4,
 "nbformat_minor": 2
}
