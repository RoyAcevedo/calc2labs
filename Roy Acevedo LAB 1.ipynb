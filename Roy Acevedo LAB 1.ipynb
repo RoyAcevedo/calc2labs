{
 "cells": [
  {
   "cell_type": "markdown",
   "metadata": {},
   "source": [
    "## Lab 1\n",
    "Intro to Python for Calculus\n",
    "\n",
    "When we start we need to import a few packages in order to use some features. We will have to do this at the start of every lab, so make sure that we run the first block of code every time"
   ]
  },
  {
   "cell_type": "code",
   "execution_count": 1,
   "metadata": {},
   "outputs": [],
   "source": [
    "# This line is a comment. Any time python sees a # symbol everything after it is not read \n",
    "import numpy as np # You can start a comment mid line if you want\n",
    "import matplotlib.pyplot as plt\n",
    "from sympy import *\n",
    "%matplotlib inline\n",
    "x, y, z = symbols('x y z')\n",
    "init_printing(use_unicode=True)\n",
    "e = np.e\n",
    "pi = np.pi"
   ]
  },
  {
   "cell_type": "markdown",
   "metadata": {},
   "source": [
    "We can do basic operationsin python. Observe the following"
   ]
  },
  {
   "cell_type": "code",
   "execution_count": 2,
   "metadata": {},
   "outputs": [
    {
     "data": {
      "image/png": "[encoded data removed]",
      "text/latex": [
       "$$4$$"
      ],
      "text/plain": [
       "4"
      ]
     },
     "execution_count": 2,
     "metadata": {},
     "output_type": "execute_result"
    }
   ],
   "source": [
    "# Addition is +\n",
    "1 + 3"
   ]
  },
  {
   "cell_type": "code",
   "execution_count": 3,
   "metadata": {},
   "outputs": [
    {
     "data": {
      "image/png": "[encoded data removed]",
      "text/latex": [
       "$$-1$$"
      ],
      "text/plain": [
       "-1"
      ]
     },
     "execution_count": 3,
     "metadata": {},
     "output_type": "execute_result"
    }
   ],
   "source": [
    "# Subtraction is -\n",
    "3 - 4"
   ]
  },
  {
   "cell_type": "code",
   "execution_count": 4,
   "metadata": {},
   "outputs": [
    {
     "data": {
      "image/png": "[encoded data removed]",
      "text/latex": [
       "$$6$$"
      ],
      "text/plain": [
       "6"
      ]
     },
     "execution_count": 4,
     "metadata": {},
     "output_type": "execute_result"
    }
   ],
   "source": [
    "# Multiply is *\n",
    "3 * 2"
   ]
  },
  {
   "cell_type": "code",
   "execution_count": 5,
   "metadata": {},
   "outputs": [
    {
     "data": {
      "image/png": "[encoded data removed]",
      "text/latex": [
       "$$1.5$$"
      ],
      "text/plain": [
       "1.5"
      ]
     },
     "execution_count": 5,
     "metadata": {},
     "output_type": "execute_result"
    }
   ],
   "source": [
    "# Divide is /\n",
    "3 / 2"
   ]
  },
  {
   "cell_type": "code",
   "execution_count": 6,
   "metadata": {},
   "outputs": [
    {
     "data": {
      "image/png": "[encoded data removed]",
      "text/latex": [
       "$$8$$"
      ],
      "text/plain": [
       "8"
      ]
     },
     "execution_count": 6,
     "metadata": {},
     "output_type": "execute_result"
    }
   ],
   "source": [
    "# Exponents are **\n",
    "2 ** 3"
   ]
  },
  {
   "cell_type": "markdown",
   "metadata": {},
   "source": [
    "Additionally, we have some calculus function that we want to use. These are why we use sympy which brings in the features.\n",
    "\n",
    "The 3 big functions we use are\n",
    "* limit() for limits\n",
    "* diff() for derivatives\n",
    "* integrate() for integrals\n",
    "\n",
    "Each of these have a syntax we will use to properly apply them. Before we do so, we want to set up our equations before we use them. For this example we will have our fucntion be $4x^3 - 2x + 4$"
   ]
  },
  {
   "cell_type": "code",
   "execution_count": 20,
   "metadata": {},
   "outputs": [
    {
     "data": {
      "image/png": "[encoded data removed]",
      "text/latex": [
       "$$4 x^{3} - 2 x + 4$$"
      ],
      "text/plain": [
       "   3          \n",
       "4⋅x  - 2⋅x + 4"
      ]
     },
     "execution_count": 20,
     "metadata": {},
     "output_type": "execute_result"
    }
   ],
   "source": [
    "function1 = 4 * x ** 3 - 2 * x + 4\n",
    "function1 # to see if our function is put in correctly"
   ]
  },
  {
   "cell_type": "markdown",
   "metadata": {},
   "source": [
    "First lets evaluate a limit. We want to evaluate\n",
    "$$\\lim_{x\\to1} 4x^3 - 2x + 4$$"
   ]
  },
  {
   "cell_type": "code",
   "execution_count": 21,
   "metadata": {},
   "outputs": [
    {
     "data": {
      "image/png": "[encoded data removed]",
      "text/latex": [
       "$$6$$"
      ],
      "text/plain": [
       "6"
      ]
     },
     "execution_count": 21,
     "metadata": {},
     "output_type": "execute_result"
    }
   ],
   "source": [
    "# The code is as follows\n",
    "limit(function1, x, 1)"
   ]
  },
  {
   "cell_type": "markdown",
   "metadata": {},
   "source": [
    "if we want to use that later we need to save it in another variable. Here's how we do that"
   ]
  },
  {
   "cell_type": "code",
   "execution_count": 11,
   "metadata": {
    "collapsed": true
   },
   "outputs": [],
   "source": [
    "savedLimit = limit(function1, x, 1)"
   ]
  },
  {
   "cell_type": "code",
   "execution_count": 13,
   "metadata": {},
   "outputs": [
    {
     "data": {
      "image/png": "[encoded data removed]",
      "text/latex": [
       "$$6$$"
      ],
      "text/plain": [
       "6"
      ]
     },
     "execution_count": 13,
     "metadata": {},
     "output_type": "execute_result"
    }
   ],
   "source": [
    "savedLimit"
   ]
  },
  {
   "cell_type": "markdown",
   "metadata": {},
   "source": [
    "Next we have the derivative. We know the derivative of our function using the power rule is $12x^2 - 2$ but lets see how to have python do it. Here is the syntax"
   ]
  },
  {
   "cell_type": "code",
   "execution_count": 22,
   "metadata": {},
   "outputs": [
    {
     "data": {
      "image/png": "[encoded data removed]",
      "text/latex": [
       "$$12 x^{2} - 2$$"
      ],
      "text/plain": [
       "    2    \n",
       "12⋅x  - 2"
      ]
     },
     "execution_count": 22,
     "metadata": {},
     "output_type": "execute_result"
    }
   ],
   "source": [
    "diff(function1, x)"
   ]
  },
  {
   "cell_type": "code",
   "execution_count": 23,
   "metadata": {
    "collapsed": true
   },
   "outputs": [],
   "source": [
    "# again to save it\n",
    "sampleDerivative = diff(function1, x)"
   ]
  },
  {
   "cell_type": "code",
   "execution_count": 24,
   "metadata": {},
   "outputs": [
    {
     "data": {
      "image/png": "[encoded data removed]",
      "text/latex": [
       "$$12 x^{2} - 2$$"
      ],
      "text/plain": [
       "    2    \n",
       "12⋅x  - 2"
      ]
     },
     "execution_count": 24,
     "metadata": {},
     "output_type": "execute_result"
    }
   ],
   "source": [
    "sampleDerivative"
   ]
  },
  {
   "cell_type": "markdown",
   "metadata": {},
   "source": [
    "Finally the integral, we can have either a definite or indefinite integral. Lets go over the syntax for each, starting with the definite. We want to solve the following\n",
    "$$\\int_{-1}^{2}{4x^3 - 2x + 4} dx$$"
   ]
  },
  {
   "cell_type": "code",
   "execution_count": 25,
   "metadata": {},
   "outputs": [
    {
     "data": {
      "image/png": "[encoded data removed]",
      "text/latex": [
       "$$24$$"
      ],
      "text/plain": [
       "24"
      ]
     },
     "execution_count": 25,
     "metadata": {},
     "output_type": "execute_result"
    }
   ],
   "source": [
    "integrate(function1, (x, -1, 2))"
   ]
  },
  {
   "cell_type": "markdown",
   "metadata": {},
   "source": [
    "For the indefinite integral $$\\int_{}^{} {4x^3 - 2x + 4} dx$$"
   ]
  },
  {
   "cell_type": "code",
   "execution_count": 26,
   "metadata": {},
   "outputs": [
    {
     "data": {
      "image/png": "[encoded data removed]",
      "text/latex": [
       "$$x^{4} - x^{2} + 4 x$$"
      ],
      "text/plain": [
       " 4    2      \n",
       "x  - x  + 4⋅x"
      ]
     },
     "execution_count": 26,
     "metadata": {},
     "output_type": "execute_result"
    }
   ],
   "source": [
    "integrate(function1, x)"
   ]
  },
  {
   "cell_type": "markdown",
   "metadata": {},
   "source": [
    "What do we see that is missing in our indefinite integral?"
   ]
  },
  {
   "cell_type": "markdown",
   "metadata": {},
   "source": [
    "## Assignment: \n",
    "For the following 3 functions find the derivative and integral using the diff() and integrate() functions. Note that some integrals are definite as given.\n",
    "\n",
    "### Derivatives\n",
    "* $$3x^2 + 2x - 4$$\n",
    "* $$e^{sin(x)}cos(x)$$\n",
    "* $$ln{2x^2} + 3$$\n",
    "* $$\\frac{x^2 + 2x}{tan{x}}$$\n",
    "* $$x^{x}$$"
   ]
  },
  {
   "cell_type": "markdown",
   "metadata": {},
   "source": [
    "### Integrals\n",
    "\n",
    "* $$\\int_{0}^{4}{3x^2 + 2x - 4} dx$$\n",
    "* $$\\int_{-\\pi}^{\\pi}{e^{sin(x)}cos(x)} dx$$\n",
    "* $$\\int_{}^{}{ln{2x^2} + 3} dx$$\n",
    "* $$\\int_{1}^{5}{\\frac{x^2 + 2x}{tan{x}}} dx$$\n",
    "* $$\\int_{}^{}{e^{x}cos{x}} dx$$"
   ]
  },
  {
   "cell_type": "code",
   "execution_count": 3,
   "metadata": {},
   "outputs": [
    {
     "data": {
      "image/png": "[encoded data removed]",
      "text/latex": [
       "$$6 x + 2$$"
      ],
      "text/plain": [
       "6⋅x + 2"
      ]
     },
     "execution_count": 3,
     "metadata": {},
     "output_type": "execute_result"
    }
   ],
   "source": [
    "func1 = 3*x**2 + 2*x - 4\n",
    "func1\n",
    "diff(func1, x)"
   ]
  },
  {
   "cell_type": "code",
   "execution_count": 7,
   "metadata": {},
   "outputs": [
    {
     "data": {
      "image/png": "[encoded data removed]",
      "text/latex": [
       "$$- 2.71828182845905^{\\sin{\\left (x \\right )}} \\sin{\\left (x \\right )} + 1.0 \\cdot 2.71828182845905^{\\sin{\\left (x \\right )}} \\cos^{2}{\\left (x \\right )}$$"
      ],
      "text/plain": [
       "                  sin(x)                              sin(x)    2   \n",
       "- 2.71828182845905      ⋅sin(x) + 1.0⋅2.71828182845905      ⋅cos (x)"
      ]
     },
     "execution_count": 7,
     "metadata": {},
     "output_type": "execute_result"
    }
   ],
   "source": [
    "func2 = np.e ** sin(x) * cos(x)\n",
    "func2\n",
    "diff(func2, x)"
   ]
  },
  {
   "cell_type": "code",
   "execution_count": 24,
   "metadata": {},
   "outputs": [
    {
     "data": {
      "image/png": "[encoded data removed]",
      "text/latex": [
       "$$\\frac{2}{x}$$"
      ],
      "text/plain": [
       "2\n",
       "─\n",
       "x"
      ]
     },
     "execution_count": 24,
     "metadata": {},
     "output_type": "execute_result"
    }
   ],
   "source": [
    "func3 = (ln(2 * x ** 2)) + 3\n",
    "func3\n",
    "diff(func3, x)"
   ]
  },
  {
   "cell_type": "code",
   "execution_count": 21,
   "metadata": {},
   "outputs": [
    {
     "data": {
      "image/png": "[encoded data removed]",
      "text/latex": [
       "$$\\frac{2 x + 2}{\\tan{\\left (x \\right )}} + \\frac{1}{\\tan^{2}{\\left (x \\right )}} \\left(x^{2} + 2 x\\right) \\left(- \\tan^{2}{\\left (x \\right )} - 1\\right)$$"
      ],
      "text/plain": [
       "          ⎛ 2      ⎞ ⎛     2       ⎞\n",
       "2⋅x + 2   ⎝x  + 2⋅x⎠⋅⎝- tan (x) - 1⎠\n",
       "─────── + ──────────────────────────\n",
       " tan(x)               2             \n",
       "                   tan (x)          "
      ]
     },
     "execution_count": 21,
     "metadata": {},
     "output_type": "execute_result"
    }
   ],
   "source": [
    "func4 = (x ** 2 + 2 * x) / tan(x)\n",
    "func4\n",
    "diff(func4, x)"
   ]
  },
  {
   "cell_type": "code",
   "execution_count": 23,
   "metadata": {},
   "outputs": [
    {
     "data": {
      "image/png": "[encoded data removed]",
      "text/latex": [
       "$$x^{x} \\left(\\log{\\left (x \\right )} + 1\\right)$$"
      ],
      "text/plain": [
       " x             \n",
       "x ⋅(log(x) + 1)"
      ]
     },
     "execution_count": 23,
     "metadata": {},
     "output_type": "execute_result"
    }
   ],
   "source": [
    "func5 = x ** x\n",
    "func5\n",
    "diff(func5, x)"
   ]
  },
  {
   "cell_type": "code",
   "execution_count": 25,
   "metadata": {},
   "outputs": [
    {
     "data": {
      "image/png": "[encoded data removed]",
      "text/latex": [
       "$$64$$"
      ],
      "text/plain": [
       "64"
      ]
     },
     "execution_count": 25,
     "metadata": {},
     "output_type": "execute_result"
    }
   ],
   "source": [
    "integrate(func1, (x, 0, 4))"
   ]
  },
  {
   "cell_type": "code",
   "execution_count": 26,
   "metadata": {},
   "outputs": [
    {
     "data": {
      "image/png": "[encoded data removed]",
      "text/latex": [
       "$$- 1.0 \\cdot 2.71828182845905^{\\sin{\\left (x \\right )}} + 1.0$$"
      ],
      "text/plain": [
       "                      sin(x)      \n",
       "- 1.0⋅2.71828182845905       + 1.0"
      ]
     },
     "execution_count": 26,
     "metadata": {},
     "output_type": "execute_result"
    }
   ],
   "source": [
    "integrate(func2, (x, x, np.pi))"
   ]
  },
  {
   "cell_type": "code",
   "execution_count": 27,
   "metadata": {},
   "outputs": [
    {
     "data": {
      "image/png": "[encoded data removed]",
      "text/latex": [
       "$$x \\log{\\left (2 x^{2} \\right )} + x$$"
      ],
      "text/plain": [
       "     ⎛   2⎞    \n",
       "x⋅log⎝2⋅x ⎠ + x"
      ]
     },
     "execution_count": 27,
     "metadata": {},
     "output_type": "execute_result"
    }
   ],
   "source": [
    "integrate(func3)"
   ]
  },
  {
   "cell_type": "code",
   "execution_count": 28,
   "metadata": {},
   "outputs": [
    {
     "data": {
      "image/png": "[encoded data removed]",
      "text/latex": [
       "$$\\int_{1}^{5} \\frac{x \\left(x + 2\\right)}{\\tan{\\left (x \\right )}}\\, dx$$"
      ],
      "text/plain": [
       "5             \n",
       "⌠             \n",
       "⎮ x⋅(x + 2)   \n",
       "⎮ ───────── dx\n",
       "⎮   tan(x)    \n",
       "⌡             \n",
       "1             "
      ]
     },
     "execution_count": 28,
     "metadata": {},
     "output_type": "execute_result"
    }
   ],
   "source": [
    "integrate(func4, (x, 1, 5))"
   ]
  },
  {
   "cell_type": "code",
   "execution_count": 30,
   "metadata": {},
   "outputs": [
    {
     "data": {
      "image/png": "[encoded data removed]",
      "text/latex": [
       "$$0.5 \\cdot 2.71828182845905^{x} \\sin{\\left (x \\right )} + 0.5 \\cdot 2.71828182845905^{x} \\cos{\\left (x \\right )}$$"
      ],
      "text/plain": [
       "                    x                              x       \n",
       "0.5⋅2.71828182845905 ⋅sin(x) + 0.5⋅2.71828182845905 ⋅cos(x)"
      ]
     },
     "execution_count": 30,
     "metadata": {},
     "output_type": "execute_result"
    }
   ],
   "source": [
    "func6 = np.e ** x * cos(x)\n",
    "func6\n",
    "integrate(func6)"
   ]
  },
  {
   "cell_type": "code",
   "execution_count": null,
   "metadata": {},
   "outputs": [],
   "source": []
  }
 ],
 "metadata": {
  "kernelspec": {
   "display_name": "Python 3",
   "language": "python",
   "name": "python3"
  },
  "language_info": {
   "codemirror_mode": {
    "name": "ipython",
    "version": 3
   },
   "file_extension": ".py",
   "mimetype": "text/x-python",
   "name": "python",
   "nbconvert_exporter": "python",
   "pygments_lexer": "ipython3",
   "version": "3.6.5"
  }
 },
 "nbformat": 4,
 "nbformat_minor": 2
}
