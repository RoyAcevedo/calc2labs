{
 "cells": [
  {
   "cell_type": "markdown",
   "metadata": {},
   "source": [
    "## Lab 8\n",
    "### Generating Maclaurin and Taylor Polynomials using Python\n",
    "\n",
    "We know that the Taylor Series for a function centered at the point a is defined as\n",
    "$$f(x) = \\sum_{n = 0}^{\\infty}\\frac{f^{(n)}(a)}{n!}(x-a)^n$$\n",
    "and the Maclaurin Series is a Taylor series centered at 0, so it becomes\n",
    "$$f(x) = \\sum_{n = 0}^{\\infty}\\frac{f^{(n)}(0)}{n!}(x)^n$$\n",
    "\n",
    "Our task today is to write a program that will generate a polynomial of the correct order for us.\n"
   ]
  },
  {
   "cell_type": "code",
   "execution_count": 6,
   "metadata": {},
   "outputs": [],
   "source": [
    "import numpy as np\n",
    "import matplotlib.pyplot as plt\n",
    "from sympy import *\n",
    "from math import factorial\n",
    "x= symbols('x')\n",
    "%matplotlib inline\n",
    "init_printing(use_unicode=True)"
   ]
  },
  {
   "cell_type": "code",
   "execution_count": 14,
   "metadata": {},
   "outputs": [],
   "source": [
    "def fact(n):\n",
    "    if n <= 0:\n",
    "        return 1\n",
    "    else: \n",
    "        return n * fact(n-1)"
   ]
  },
  {
   "cell_type": "code",
   "execution_count": 23,
   "metadata": {},
   "outputs": [
    {
     "data": {
      "image/png": "[encoded data removed]",
      "text/latex": [
       "$$24$$"
      ],
      "text/plain": [
       "24"
      ]
     },
     "execution_count": 23,
     "metadata": {},
     "output_type": "execute_result"
    }
   ],
   "source": [
    "fact(4) "
   ]
  },
  {
   "cell_type": "markdown",
   "metadata": {},
   "source": [
    "First we need to identify what things we need to have in our structure.\n",
    "* What does this function need to be able to take in?\n",
    "* What are the parts of each term in the polynomial?\n",
    "* How am I going to repeat this process multiple times?"
   ]
  },
  {
   "cell_type": "code",
   "execution_count": 46,
   "metadata": {},
   "outputs": [],
   "source": [
    "def makeTaylorPolynomial(function, a, n):\n",
    "    i = 0\n",
    "    p = 0\n",
    "    while i <= n:\n",
    "        p = p + (function.diff(x,i).subs(x,a)/(fact(i))*(x-a)**i)\n",
    "        i += 1\n",
    "    return p             "
   ]
  },
  {
   "cell_type": "code",
   "execution_count": 48,
   "metadata": {},
   "outputs": [
    {
     "data": {
      "image/png": "[encoded data removed]",
      "text/latex": [
       "$$- \\frac{\\left(x - \\frac{\\pi}{2}\\right)^{6}}{720} + \\frac{\\left(x - \\frac{\\pi}{2}\\right)^{4}}{24} - \\frac{\\left(x - \\frac{\\pi}{2}\\right)^{2}}{2} + 1$$"
      ],
      "text/plain": [
       "         6          4          2    \n",
       "  ⎛    π⎞    ⎛    π⎞    ⎛    π⎞     \n",
       "  ⎜x - ─⎟    ⎜x - ─⎟    ⎜x - ─⎟     \n",
       "  ⎝    2⎠    ⎝    2⎠    ⎝    2⎠     \n",
       "- ──────── + ──────── - ──────── + 1\n",
       "    720         24         2        "
      ]
     },
     "execution_count": 48,
     "metadata": {},
     "output_type": "execute_result"
    }
   ],
   "source": [
    "makeTaylorPolynomial(sin(x),pi/2,6)"
   ]
  },
  {
   "cell_type": "code",
   "execution_count": 8,
   "metadata": {},
   "outputs": [],
   "source": [
    "def makeTaylorPolynomial(function, a, n):\n",
    "    i = 0\n",
    "    p = 0\n",
    "    while i <= n:\n",
    "        p = p + (function.diff(x,i).subs(x,a)/(fact(i))*(x-a)**i)\n",
    "        i += 1\n",
    "    return p             "
   ]
  },
  {
   "cell_type": "code",
   "execution_count": 15,
   "metadata": {},
   "outputs": [
    {
     "data": {
      "image/png": "[encoded data removed]",
      "text/latex": [
       "$$- \\frac{x^{3}}{6} + \\frac{x^{2}}{2} + 3 x + 1$$"
      ],
      "text/plain": [
       "   3    2          \n",
       "  x    x           \n",
       "- ── + ── + 3⋅x + 1\n",
       "  6    2           "
      ]
     },
     "execution_count": 15,
     "metadata": {},
     "output_type": "execute_result"
    }
   ],
   "source": [
    "makeTaylorPolynomial((exp(x) + 2*(sin(x))),0,3)"
   ]
  },
  {
   "cell_type": "code",
   "execution_count": 4,
   "metadata": {},
   "outputs": [
    {
     "ename": "SyntaxError",
     "evalue": "invalid syntax (<ipython-input-4-f508dec6eb88>, line 4)",
     "output_type": "error",
     "traceback": [
      "\u001b[1;36m  File \u001b[1;32m\"<ipython-input-4-f508dec6eb88>\"\u001b[1;36m, line \u001b[1;32m4\u001b[0m\n\u001b[1;33m    <pi: 3.14159~>\u001b[0m\n\u001b[1;37m    ^\u001b[0m\n\u001b[1;31mSyntaxError\u001b[0m\u001b[1;31m:\u001b[0m invalid syntax\n"
     ]
    }
   ],
   "source": [
    ">>> from mpmath import *\n",
    ">>> mp.dps = 15\n",
    ">>> pi\n",
    "<pi: 3.14159~>\n",
    ">>> 2*pi\n",
    "mpf('6.2831853071795862')\n",
    ">>> +pi\n",
    "mpf('3.1415926535897931')\n",
    ">>> pi()\n",
    "mpf('3.1415926535897931')\n",
    ">>> mp.dps = 40\n",
    ">>> pi\n",
    "<pi: 3.14159~>\n",
    ">>> 2*pi\n",
    "mpf('6.283185307179586476925286766559005768394338')\n",
    ">>> +pi\n",
    "mpf('3.141592653589793238462643383279502884197169')\n",
    ">>> pi()\n",
    "mpf('3.141592653589793238462643383279502884197169')"
   ]
  },
  {
   "cell_type": "code",
   "execution_count": null,
   "metadata": {},
   "outputs": [],
   "source": []
  }
 ],
 "metadata": {
  "kernelspec": {
   "display_name": "Python 3",
   "language": "python",
   "name": "python3"
  },
  "language_info": {
   "codemirror_mode": {
    "name": "ipython",
    "version": 3
   },
   "file_extension": ".py",
   "mimetype": "text/x-python",
   "name": "python",
   "nbconvert_exporter": "python",
   "pygments_lexer": "ipython3",
   "version": "3.7.1"
  }
 },
 "nbformat": 4,
 "nbformat_minor": 2
}
